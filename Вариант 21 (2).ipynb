{
 "cells": [
  {
   "cell_type": "markdown",
   "metadata": {},
   "source": [
    "# Уравнение Кеплера\n",
    "Уравнение Кеплера для вычисления орбиты имеет вид\n",
    "𝑀=𝐸−𝜀sin𝐸,\n",
    "\n",
    "где  𝑀  – средняя аномалия,  𝐸  – эксцентрическая аномалия,  𝜀  – эксцентриситет орбиты. Пусть  𝑀=24.851090 ,  𝜀=0.1. \n",
    "\n",
    "Для примера возьмем планету Марс, т.к. примерно равные эксцентриситеты(используется только для простоения орбиты).\n",
    "\n",
    "1) Построим орбиту, используя метод последовательных приближений найдем E.\n",
    "\n",
    "2) Найдем E, используя `scipy.optimize.brentq`.\n",
    "\n",
    "3)  Вычислим $E$ с помощью формулы\n",
    "    $$\n",
    "      E = M + 2\\sum_{m=1}^{\\infty} \\frac{1}{m} J_m(m\\varepsilon) \\sin(mM),\n",
    "    $$\n",
    "    где $J_m(x)$ – функция Бесселя $1$-го рода порядка $m$.\n",
    "    Найдем $E$ по предыдущей формуле, используя равенство\n",
    "    $$\n",
    "      J_m(m\\varepsilon) = \\sum_{n=0}^{\\infty} \\frac{(-1)^n (m\\varepsilon/2)^{2n+m}}{n!(m+n)!}.\n",
    "    $$"
   ]
  },
  {
   "cell_type": "markdown",
   "metadata": {},
   "source": [
    "# Вывод уравнения Кеплера\n",
    "sqrt(1-e^2)\n",
    "\n",
    "окружность. Здесь e — эксцентриситет.\n",
    "\n",
    "Площадь эллипса равна\n",
    "\n",
    "S=pi*a^2*sqrt(1-e^2)\n",
    "\n",
    "где a — большая полуось.\n",
    "Согласно второму закону Кеплера, который гласит, что площадь, заметаемая радиус-вектором небесного тела пропорциональна времени, можно написать\n",
    "\n",
    "S(t)=pi*a^2*sqrt(1-e^2)*(t-t0)/T\n",
    "\n",
    "где T — период обращения, t — текущее время, t0 — момент времени прохождения перигелия (ближайшей к Солнцу точки орбиты).\n",
    "\n",
    "Найдем теперь зависимость этой площади от положения небесного тела на орбите, то есть от величины радиус-вектора r и истинной аномалии — угла между перигелием и небесным телом, если смотреть с Солнца.\n",
    "\n",
    "Для этого введем дополнительную переменную — эксцентрическую аномалию E.\n",
    "Направим ось x от Солнца (начала координат), которое находится в одном из фокусов эллипса, в сторону перигелия по линии апсид (прямой, соединяющей перицентр с апоцентром).\n",
    "Создадим также вспомогательную окружность с радиусом, равным большой полуоси эллипса.\n",
    "\n",
    "/*Ссылка на изображение(Яндекс диск), непонятно почему, но на гите не отображается картинка, хоть в питоне все и нормально.*/\n",
    "\n",
    "https://yadi.sk/i/L3Xc2pTY709nDg\n",
    "\n",
    "Абсцисса небесного тела в точке P будет равна\n",
    "\n",
    "x=cos(E)-a*e\n",
    "\n",
    "ордината будет, соответственно, равна\n",
    "\n",
    "y=a*sin(E)*sqrt(1-e^2)\n",
    "\n",
    "Таким образом, получаем\n",
    "\n",
    "x=r*cos(v)=a*cos(E)-e\n",
    "\n",
    "y=r*sin(v)=a*sin(E)*sqrt(1-e^2)\n",
    "\n",
    "Для вычисления площади S рассмотрим вспомогательные фигуры:\n",
    "сектор окружности P'-O-Per:\n",
    "\n",
    "S1=a^2*E/2\n",
    "\n",
    "Сектор эллипса P-O-Per:\n",
    "\n",
    "S2=S1*sqrt(1-e^2)\n",
    "\n",
    "Треугольник O-O'-P:\n",
    "\n",
    "S3=1/2*(y*a*e)=1/2*a^2*e*sinE*sqrt(1-e^2)\n",
    "\n",
    "Сектор P-O'-Per:\n",
    "\n",
    "S=S2-S3\n",
    "\n",
    "Отсюда, прощадь S равна:\n",
    "\n",
    "S(t)=1/2*a^2*sqrt(1-e^2)*(E-e*sin(E))\n",
    "\n",
    "Сравнивая это выражение с выведенным ранее из второго закона Кеплера,\n",
    "получаем:\n",
    "\n",
    "M(t)=E(t)-e*sin(E(t))\n",
    "\n",
    "где M(t)=2*pi*t/T"
   ]
  },
  {
   "cell_type": "code",
   "execution_count": 12,
   "metadata": {
    "scrolled": true
   },
   "outputs": [
    {
     "data": {
      "image/png": "[encoded data removed]",
      "text/plain": [
       "<Figure size 432x288 with 1 Axes>"
      ]
     },
     "metadata": {
      "needs_background": "light"
     },
     "output_type": "display_data"
    }
   ],
   "source": [
    "from numpy import*\n",
    "from matplotlib.pyplot import*\n",
    "%matplotlib inline\n",
    "M=24.85109\n",
    "e=0.1\n",
    "a=149600000*1.52\n",
    "N=360\n",
    "def X(E):\n",
    "    return a*cos(E)-e\n",
    "def Y(E):\n",
    "    return a*sin(E)*sqrt(1-e**0.5)\n",
    "E=[i for i in arange(0,N,1)]\n",
    "X=array([X(w) for w in E])\n",
    "Y=array([Y(w) for w in E])\n",
    "figure()\n",
    "title(\"Орбита Марса\")\n",
    "axis('equal')\n",
    "plot (X, Y, \".\")\n",
    "grid(True)\n",
    "pass"
   ]
  },
  {
   "cell_type": "markdown",
   "metadata": {},
   "source": [
    "# Вычислим E методом последовательных приближений:\n",
    "\n",
    "$\n",
    "M=E-e*sin(E)\n",
    "$\n",
    "\n",
    "$\n",
    "Е = М + e*sin E\n",
    "$\n",
    "\n",
    "В правую часть уравнения вместо Е подставляется М и находится\n",
    "\n",
    "$\n",
    "Е1 = М + e sin М\n",
    "$\n",
    "\n",
    "Затем в правую часть уравнения вместо Е подставляется Е1 и находится Е2 и так далее\n",
    "\n",
    "$\n",
    "Е(k+1)= М + e*sin Ek\n",
    "$"
   ]
  },
  {
   "cell_type": "code",
   "execution_count": 59,
   "metadata": {
    "scrolled": true
   },
   "outputs": [
    {
     "name": "stdout",
     "output_type": "stream",
     "text": [
      "24.820357182542907\n"
     ]
    }
   ],
   "source": [
    "from math import*\n",
    "from numpy import*\n",
    "e=0.1\n",
    "M=24.85109\n",
    "E=M+e*sin(M)\n",
    "a=1\n",
    "while a<100: #При увеличении/уменьшении a от 5 до oo значение не изменится(ряд очень быстро сходится)\n",
    "    Ek=M+e*sin(E)\n",
    "    E=Ek\n",
    "    Ek=0\n",
    "    a=a+1\n",
    "print(E)"
   ]
  },
  {
   "cell_type": "markdown",
   "metadata": {},
   "source": [
    "# Вычислим E при помощи `scipy.optimize.brentq`:"
   ]
  },
  {
   "cell_type": "code",
   "execution_count": 60,
   "metadata": {},
   "outputs": [
    {
     "name": "stdout",
     "output_type": "stream",
     "text": [
      "24.820357182542907\n"
     ]
    }
   ],
   "source": [
    "from scipy import optimize\n",
    "from math import*\n",
    "from numpy import*\n",
    "𝑀=24.851090\n",
    "e=0.1\n",
    "def f(E):\n",
    "    return E-e*sin(E)-M\n",
    "k=optimize.brentq(f,-40,40)\n",
    "print(k)"
   ]
  },
  {
   "cell_type": "markdown",
   "metadata": {},
   "source": [
    "# Вычислим E с помощью формулы\n",
    " \n",
    " $$\n",
    " E = M + 2\\sum_{m=1}^{\\infty} \\frac{1}{m} J_m(m\\varepsilon) \\sin(mM),\n",
    " $$\n",
    "           где $J_m(x)$ – функция Бесселя $1$-го рода порядка $m$.\n",
    " $$\n",
    " J_m(m\\varepsilon) = \\sum_{n=0}^{\\infty} \\frac{(-1)^n (m\\varepsilon/2)^{2n+m}}{n!(m+n)!}.\n",
    " $$\n",
    "    \n",
    "\n"
   ]
  },
  {
   "cell_type": "code",
   "execution_count": 57,
   "metadata": {
    "scrolled": true
   },
   "outputs": [
    {
     "name": "stdout",
     "output_type": "stream",
     "text": [
      "IPython console for SymPy 1.4 (Python 3.7.4-32-bit) (ground types: python)\n",
      "\n",
      "These commands were executed:\n",
      ">>> from __future__ import division\n",
      ">>> from sympy import *\n",
      ">>> x, y, z, t = symbols('x y z t')\n",
      ">>> k, m, n = symbols('k m n', integer=True)\n",
      ">>> f, g, h = symbols('f g h', cls=Function)\n",
      ">>> init_printing()\n",
      "\n",
      "Documentation can be found at https://docs.sympy.org/1.4/\n",
      "\n",
      "24.8203571859165\n"
     ]
    }
   ],
   "source": [
    "import sympy\n",
    "from scipy import special\n",
    "from math import*\n",
    "sympy.init_session()\n",
    "e=0.1\n",
    "M=24.85109\n",
    "def bessel(m,e):\n",
    "    return Sum(((-1)**n * (m*e/2)**(2*n+m))/(factorial(n)*factorial(m+n)),[n,0,oo])\n",
    "def E(M):\n",
    "    return M+2*Sum((1/m)*bessel(m,e)*sin(m*M),[m,1,oo])\n",
    "print(E(M).evalf())"
   ]
  },
  {
   "cell_type": "markdown",
   "metadata": {},
   "source": [
    "# Выводы\n",
    "1) Все 3 способа дали практически идентичный результат(погрешность = 10^(-9)), 2 первых способа дали идентичный результат\n",
    "\n",
    "2) Как и ожидалось самый долгий способ - нахождение эксцентрической аномалии с помощью формулы:\n",
    "    $$\n",
    "      E = M + 2\\sum_{m=1}^{\\infty} \\frac{1}{m} J_m(m\\varepsilon) \\sin(mM),\n",
    "    $$\n",
    "    где $J_m(x)$ – функция Бесселя $1$-го рода порядка $m$.\n",
    "    $$\n",
    "      J_m(m\\varepsilon) = \\sum_{n=0}^{\\infty} \\frac{(-1)^n (m\\varepsilon/2)^{2n+m}}{n!(m+n)!}.\n",
    "    $$\n",
    "2 первых способа работают с примерно одинаковым быстродействием."
   ]
  }
 ],
 "metadata": {
  "kernelspec": {
   "display_name": "Python 3",
   "language": "python",
   "name": "python3"
  },
  "language_info": {
   "codemirror_mode": {
    "name": "ipython",
    "version": 3
   },
   "file_extension": ".py",
   "mimetype": "text/x-python",
   "name": "python",
   "nbconvert_exporter": "python",
   "pygments_lexer": "ipython3",
   "version": "3.7.6"
  }
 },
 "nbformat": 4,
 "nbformat_minor": 2
}
